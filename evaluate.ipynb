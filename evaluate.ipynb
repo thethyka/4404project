{
 "cells": [
  {
   "cell_type": "code",
   "execution_count": 2,
   "metadata": {},
   "outputs": [],
   "source": [
    "import pandas as pd\n",
    "from sklearn.model_selection import TimeSeriesSplit\n",
    "import subprocess\n",
    "import os\n",
    "import itertools\n",
    "\n",
    "from tradingbot import TradingBot\n",
    "from aco_optimiser import Ant\n",
    "\n",
    "import itertools\n",
    "import numpy as np"
   ]
  },
  {
   "cell_type": "code",
   "execution_count": 3,
   "metadata": {},
   "outputs": [],
   "source": [
    "if not os.path.isfile('aco_data.csv'):\n",
    "    subprocess.run(['python', 'get_data.py'])\n",
    "\n",
    "data = pd.read_csv(\"aco_data.csv\")\n"
   ]
  },
  {
   "attachments": {},
   "cell_type": "markdown",
   "metadata": {},
   "source": [
    "Getting our data file."
   ]
  },
  {
   "cell_type": "code",
   "execution_count": 4,
   "metadata": {},
   "outputs": [],
   "source": [
    "def cross_validate(data, window_sizes, acoparams):\n",
    "\n",
    "    # Load your OHLCV data for the past 720 days\n",
    "    data_points = len(data)\n",
    "    train_ratio = 0.8\n",
    "\n",
    "    # Split the data into train and test sets\n",
    "    train_size = int(data_points * train_ratio)\n",
    "    test_size = data_points - train_size\n",
    "\n",
    "    train_data = data[:train_size]\n",
    "    test_data = data[train_size:].reset_index(drop=True)\n",
    "\n",
    "    # Train and validate the ACO model using TimeSeriesSplit\n",
    "    n_splits = 4\n",
    "\n",
    "    # 576 training points\n",
    "\n",
    "    # SPLIT 1: 0 - 175, 176 - 275\n",
    "    # SPLIT 2: 0 - 275, 276 - 375\n",
    "    # SPLIT 3: 0 - 375, 376 - 475\n",
    "    # SPLIT 4: 0 - 475, 476 - 575\n",
    "\n",
    "    tscv = TimeSeriesSplit(n_splits=n_splits, test_size=100)\n",
    "\n",
    "    performances = []\n",
    "\n",
    "    for train_index, val_index in tscv.split(train_data):\n",
    "        train_split = train_data.loc[train_index].reset_index(drop=True)\n",
    "        val_split = train_data.loc[val_index].reset_index(drop=True)\n",
    "\n",
    "        # Train the ACO model on the train_split\n",
    "        train_bot = TradingBot(train_split, window_sizes, acoparams)\n",
    "        val_bot = TradingBot(val_split, window_sizes, acoparams)\n",
    "\n",
    "        train_bot.optimise()\n",
    "        best_ant = train_bot.best_ants[-1]\n",
    "\n",
    "        # use top ant to validate\n",
    "        performances.append(val_bot.run(best_ant.buy_dnf, best_ant.sell_dnf))\n",
    "    \n",
    "\n",
    "    return round(sum(performances) / len(performances), 2)\n"
   ]
  },
  {
   "attachments": {},
   "cell_type": "markdown",
   "metadata": {},
   "source": [
    "Cross Validate function for a set of window sizes, and acoparams"
   ]
  },
  {
   "cell_type": "code",
   "execution_count": 7,
   "metadata": {},
   "outputs": [
    {
     "name": "stdout",
     "output_type": "stream",
     "text": [
      "Testing: 1, 1, 0.1\n"
     ]
    },
    {
     "ename": "KeyboardInterrupt",
     "evalue": "",
     "output_type": "error",
     "traceback": [
      "\u001b[0;31m---------------------------------------------------------------------------\u001b[0m",
      "\u001b[0;31mKeyboardInterrupt\u001b[0m                         Traceback (most recent call last)",
      "Cell \u001b[0;32mIn[7], line 16\u001b[0m\n\u001b[1;32m     14\u001b[0m \u001b[39mprint\u001b[39m(\u001b[39mf\u001b[39m\u001b[39m\"\u001b[39m\u001b[39mTesting: \u001b[39m\u001b[39m{\u001b[39;00malpha\u001b[39m}\u001b[39;00m\u001b[39m, \u001b[39m\u001b[39m{\u001b[39;00mbeta\u001b[39m}\u001b[39;00m\u001b[39m, \u001b[39m\u001b[39m{\u001b[39;00mevaporation_rate\u001b[39m}\u001b[39;00m\u001b[39m\"\u001b[39m)\n\u001b[1;32m     15\u001b[0m acoparams \u001b[39m=\u001b[39m (alpha, beta, evaporation_rate, \u001b[39m2\u001b[39m, \u001b[39m2\u001b[39m, \u001b[39m50\u001b[39m, \u001b[39m30\u001b[39m)\n\u001b[0;32m---> 16\u001b[0m score \u001b[39m=\u001b[39m cross_validate(data, window_sizes, acoparams)\n\u001b[1;32m     18\u001b[0m \u001b[39mif\u001b[39;00m score \u001b[39m>\u001b[39m best_score:\n\u001b[1;32m     19\u001b[0m     \u001b[39mprint\u001b[39m(score)\n",
      "Cell \u001b[0;32mIn[4], line 36\u001b[0m, in \u001b[0;36mcross_validate\u001b[0;34m(data, window_sizes, acoparams)\u001b[0m\n\u001b[1;32m     33\u001b[0m train_bot \u001b[39m=\u001b[39m TradingBot(train_split, window_sizes, acoparams)\n\u001b[1;32m     34\u001b[0m val_bot \u001b[39m=\u001b[39m TradingBot(val_split, window_sizes, acoparams)\n\u001b[0;32m---> 36\u001b[0m train_bot\u001b[39m.\u001b[39;49moptimise()\n\u001b[1;32m     37\u001b[0m best_ant \u001b[39m=\u001b[39m train_bot\u001b[39m.\u001b[39mbest_ants[\u001b[39m-\u001b[39m\u001b[39m1\u001b[39m]\n\u001b[1;32m     39\u001b[0m \u001b[39m# use top ant to validate\u001b[39;00m\n",
      "File \u001b[0;32m~/Desktop/2023/AI and Systems/4404project/tradingbot.py:155\u001b[0m, in \u001b[0;36mTradingBot.optimise\u001b[0;34m(self)\u001b[0m\n\u001b[1;32m    153\u001b[0m cost_function \u001b[39m=\u001b[39m \u001b[39mlambda\u001b[39;00m buy_dnf, sell_dnf: \u001b[39mself\u001b[39m\u001b[39m.\u001b[39mrun(buy_dnf, sell_dnf)\n\u001b[1;32m    154\u001b[0m optimiser \u001b[39m=\u001b[39m ACOOptimiser(cost_function, \u001b[39mself\u001b[39m\u001b[39m.\u001b[39mliteral_dict\u001b[39m.\u001b[39mkeys(), \u001b[39mself\u001b[39m\u001b[39m.\u001b[39macoparams)\n\u001b[0;32m--> 155\u001b[0m res \u001b[39m=\u001b[39m optimiser\u001b[39m.\u001b[39;49maco_algorithm()\n\u001b[1;32m    156\u001b[0m \u001b[39mself\u001b[39m\u001b[39m.\u001b[39mbest_ants \u001b[39m=\u001b[39m res[\u001b[39m0\u001b[39m]\n\u001b[1;32m    157\u001b[0m \u001b[39mself\u001b[39m\u001b[39m.\u001b[39mhistorical_buy_pheromones \u001b[39m=\u001b[39m res[\u001b[39m1\u001b[39m]\n",
      "File \u001b[0;32m~/Desktop/2023/AI and Systems/4404project/aco_optimiser.py:264\u001b[0m, in \u001b[0;36mACOOptimiser.aco_algorithm\u001b[0;34m(self)\u001b[0m\n\u001b[1;32m    262\u001b[0m     \u001b[39mif\u001b[39;00m iteration \u001b[39m>\u001b[39m \u001b[39m0\u001b[39m:\n\u001b[1;32m    263\u001b[0m         \u001b[39mself\u001b[39m\u001b[39m.\u001b[39mconstruct_solution(ant)\n\u001b[0;32m--> 264\u001b[0m     profits\u001b[39m.\u001b[39mappend(\u001b[39mself\u001b[39;49m\u001b[39m.\u001b[39;49mevaluate_ant(ant))\n\u001b[1;32m    269\u001b[0m \u001b[39m# Update pheromone levels\u001b[39;00m\n\u001b[1;32m    271\u001b[0m \u001b[39mself\u001b[39m\u001b[39m.\u001b[39mupdate_pheromones()\n",
      "File \u001b[0;32m~/Desktop/2023/AI and Systems/4404project/aco_optimiser.py:177\u001b[0m, in \u001b[0;36mACOOptimiser.evaluate_ant\u001b[0;34m(self, ant)\u001b[0m\n\u001b[1;32m    174\u001b[0m \u001b[39mif\u001b[39;00m ant\u001b[39m.\u001b[39mbuy_dnf \u001b[39mis\u001b[39;00m \u001b[39mNone\u001b[39;00m:\n\u001b[1;32m    175\u001b[0m     \u001b[39mreturn\u001b[39;00m \u001b[39mNone\u001b[39;00m\n\u001b[0;32m--> 177\u001b[0m profit \u001b[39m=\u001b[39m \u001b[39mself\u001b[39;49m\u001b[39m.\u001b[39;49mcost_function(ant\u001b[39m.\u001b[39;49mbuy_dnf, ant\u001b[39m.\u001b[39;49msell_dnf) \u001b[39m-\u001b[39m \u001b[39m100\u001b[39m\n\u001b[1;32m    179\u001b[0m ant\u001b[39m.\u001b[39mmoney \u001b[39m=\u001b[39m profit \u001b[39m+\u001b[39m \u001b[39m100\u001b[39m\n\u001b[1;32m    181\u001b[0m \u001b[39mreturn\u001b[39;00m profit\n",
      "File \u001b[0;32m~/Desktop/2023/AI and Systems/4404project/tradingbot.py:153\u001b[0m, in \u001b[0;36mTradingBot.optimise.<locals>.<lambda>\u001b[0;34m(buy_dnf, sell_dnf)\u001b[0m\n\u001b[1;32m    151\u001b[0m \u001b[39mdef\u001b[39;00m \u001b[39moptimise\u001b[39m(\u001b[39mself\u001b[39m):\n\u001b[1;32m    152\u001b[0m     \u001b[39m# Uses all paramters to find the best parameters, sets best dnfs accordingly.\u001b[39;00m\n\u001b[0;32m--> 153\u001b[0m     cost_function \u001b[39m=\u001b[39m \u001b[39mlambda\u001b[39;00m buy_dnf, sell_dnf: \u001b[39mself\u001b[39;49m\u001b[39m.\u001b[39;49mrun(buy_dnf, sell_dnf)\n\u001b[1;32m    154\u001b[0m     optimiser \u001b[39m=\u001b[39m ACOOptimiser(cost_function, \u001b[39mself\u001b[39m\u001b[39m.\u001b[39mliteral_dict\u001b[39m.\u001b[39mkeys(), \u001b[39mself\u001b[39m\u001b[39m.\u001b[39macoparams)\n\u001b[1;32m    155\u001b[0m     res \u001b[39m=\u001b[39m optimiser\u001b[39m.\u001b[39maco_algorithm()\n",
      "File \u001b[0;32m~/Desktop/2023/AI and Systems/4404project/tradingbot.py:190\u001b[0m, in \u001b[0;36mTradingBot.run\u001b[0;34m(self, buy_dnf_formula, sell_dnf_formula)\u001b[0m\n\u001b[1;32m    187\u001b[0m bought \u001b[39m=\u001b[39m \u001b[39mFalse\u001b[39;00m\n\u001b[1;32m    189\u001b[0m \u001b[39mfor\u001b[39;00m t \u001b[39min\u001b[39;00m \u001b[39mrange\u001b[39m(\u001b[39m1\u001b[39m, \u001b[39mself\u001b[39m\u001b[39m.\u001b[39mperiod):\n\u001b[0;32m--> 190\u001b[0m     buy_t \u001b[39m=\u001b[39m \u001b[39mself\u001b[39;49m\u001b[39m.\u001b[39;49mbuy_pulse(t, buy_dnf_formula)\n\u001b[1;32m    191\u001b[0m     buy_prev \u001b[39m=\u001b[39m \u001b[39mself\u001b[39m\u001b[39m.\u001b[39mbuy_pulse(t \u001b[39m-\u001b[39m \u001b[39m1\u001b[39m, buy_dnf_formula)\n\u001b[1;32m    192\u001b[0m     sell_t \u001b[39m=\u001b[39m \u001b[39mself\u001b[39m\u001b[39m.\u001b[39msell_pulse(t, sell_dnf_formula)\n",
      "File \u001b[0;32m~/Desktop/2023/AI and Systems/4404project/tradingbot.py:131\u001b[0m, in \u001b[0;36mTradingBot.buy_pulse\u001b[0;34m(self, t, buy_dnf_formula)\u001b[0m\n\u001b[1;32m    129\u001b[0m \u001b[39mfor\u001b[39;00m key, isPos \u001b[39min\u001b[39;00m clause:\n\u001b[1;32m    130\u001b[0m     literal \u001b[39m=\u001b[39m \u001b[39mself\u001b[39m\u001b[39m.\u001b[39mliteral_dict[key]\n\u001b[0;32m--> 131\u001b[0m     \u001b[39mif\u001b[39;00m \u001b[39mnot\u001b[39;00m literal\u001b[39m.\u001b[39;49mevaluate(t, isPos):\n\u001b[1;32m    132\u001b[0m         clause_true \u001b[39m=\u001b[39m \u001b[39mFalse\u001b[39;00m\n\u001b[1;32m    133\u001b[0m         \u001b[39mbreak\u001b[39;00m\n",
      "File \u001b[0;32m~/Desktop/2023/AI and Systems/4404project/tradingbot.py:53\u001b[0m, in \u001b[0;36mLiteral.evaluate\u001b[0;34m(self, t, isPos)\u001b[0m\n\u001b[1;32m     51\u001b[0m \u001b[39mdef\u001b[39;00m \u001b[39mevaluate\u001b[39m(\u001b[39mself\u001b[39m, t, isPos):\n\u001b[1;32m     52\u001b[0m     \u001b[39m# Any time we have NaN we return false\u001b[39;00m\n\u001b[0;32m---> 53\u001b[0m     \u001b[39mif\u001b[39;00m math\u001b[39m.\u001b[39misnan(\u001b[39mself\u001b[39;49m\u001b[39m.\u001b[39;49mind1[t]) \u001b[39mor\u001b[39;00m math\u001b[39m.\u001b[39misnan(\u001b[39mself\u001b[39m\u001b[39m.\u001b[39mind2[t]):\n\u001b[1;32m     54\u001b[0m         \u001b[39mreturn\u001b[39;00m \u001b[39mFalse\u001b[39;00m\n\u001b[1;32m     56\u001b[0m     \u001b[39mif\u001b[39;00m isPos:\n",
      "File \u001b[0;32m~/Desktop/2023/AI and Systems/4404project/env/lib/python3.9/site-packages/pandas/core/series.py:1007\u001b[0m, in \u001b[0;36mSeries.__getitem__\u001b[0;34m(self, key)\u001b[0m\n\u001b[1;32m   1004\u001b[0m     \u001b[39mreturn\u001b[39;00m \u001b[39mself\u001b[39m\u001b[39m.\u001b[39m_values[key]\n\u001b[1;32m   1006\u001b[0m \u001b[39melif\u001b[39;00m key_is_scalar:\n\u001b[0;32m-> 1007\u001b[0m     \u001b[39mreturn\u001b[39;00m \u001b[39mself\u001b[39;49m\u001b[39m.\u001b[39;49m_get_value(key)\n\u001b[1;32m   1009\u001b[0m \u001b[39mif\u001b[39;00m is_hashable(key):\n\u001b[1;32m   1010\u001b[0m     \u001b[39m# Otherwise index.get_value will raise InvalidIndexError\u001b[39;00m\n\u001b[1;32m   1011\u001b[0m     \u001b[39mtry\u001b[39;00m:\n\u001b[1;32m   1012\u001b[0m         \u001b[39m# For labels that don't resolve as scalars like tuples and frozensets\u001b[39;00m\n",
      "\u001b[0;31mKeyboardInterrupt\u001b[0m: "
     ]
    }
   ],
   "source": [
    "# Create lists of reasonable values for alpha, beta, evaporation_rate, and mutation_rate\n",
    "alphas = [1, 2, 3]\n",
    "betas = [1, 2, 3]\n",
    "evaporation_rates = [0.1, 0.2, 0.3]\n",
    "\n",
    "# Choose three window sizes for short, medium, and long periods\n",
    "window_sizes = [5, 20, 40]\n",
    "\n",
    "# Optimize alpha, beta, evaporation_rate\n",
    "best_params = (None, None, None, None)\n",
    "best_score = -np.inf\n",
    "\n",
    "for alpha, beta, evaporation_rate in itertools.product(alphas, betas, evaporation_rates):\n",
    "    print(f\"Testing: {alpha}, {beta}, {evaporation_rate}\")\n",
    "    acoparams = (alpha, beta, evaporation_rate, 2, 2, 50, 30)\n",
    "    score = cross_validate(data, window_sizes, acoparams)\n",
    "\n",
    "    if score > best_score:\n",
    "        print(score)\n",
    "        best_score = score\n",
    "        best_params = (alpha, beta, evaporation_rate)\n",
    "\n",
    "print(best_params)\n",
    "print(best_score)\n",
    "\n"
   ]
  },
  {
   "attachments": {},
   "cell_type": "markdown",
   "metadata": {},
   "source": [
    "Finding optimal alpha, beta and evaporation rate."
   ]
  },
  {
   "cell_type": "code",
   "execution_count": 5,
   "metadata": {},
   "outputs": [],
   "source": [
    "best_alpha = 2\n",
    "best_beta = 1\n",
    "best_evaporation_rate = 0.2"
   ]
  },
  {
   "cell_type": "code",
   "execution_count": 8,
   "metadata": {},
   "outputs": [
    {
     "name": "stdout",
     "output_type": "stream",
     "text": [
      "Testing: 3, 1\n",
      "90.61\n",
      "Testing: 3, 2\n",
      "Testing: 3, 3\n",
      "92.67\n",
      "Testing: 3, 4\n",
      "Testing: 3, 5\n",
      "Testing: 3, 6\n",
      "Testing: 4, 1\n",
      "Testing: 4, 2\n",
      "Testing: 4, 3\n",
      "Testing: 4, 4\n",
      "95.02\n",
      "Testing: 4, 5\n",
      "Testing: 4, 6\n",
      "Testing: 5, 1\n",
      "95.29\n",
      "Testing: 5, 2\n",
      "Testing: 5, 3\n",
      "Testing: 5, 4\n",
      "Testing: 5, 5\n",
      "Testing: 5, 6\n",
      "Testing: 6, 1\n",
      "Testing: 6, 2\n",
      "Testing: 6, 3\n",
      "Testing: 6, 4\n",
      "Testing: 6, 5\n",
      "Testing: 6, 6\n",
      "(5, 1)\n",
      "95.29\n"
     ]
    }
   ],
   "source": [
    "# Optimize average_literals and average_clauses\n",
    "best_literals_clauses = (None, None)\n",
    "best_score_literals_clauses = -np.inf\n",
    "average_literals = [1, 2, 3, 4, 5, 6]\n",
    "average_clauses = [1, 2, 3, 4, 5, 6]\n",
    "\n",
    "for avg_literals, avg_clauses in itertools.product(average_literals, average_clauses):\n",
    "    print(f\"Testing: {avg_literals}, {avg_clauses}\")\n",
    "    acoparams = (best_alpha, best_beta, best_evaporation_rate, avg_literals, avg_clauses, 50, 30)\n",
    "    score = cross_validate(data, window_sizes, acoparams)\n",
    "\n",
    "    if score > best_score_literals_clauses:\n",
    "        print(score)\n",
    "        best_score_literals_clauses = score\n",
    "        best_literals_clauses = (avg_literals, avg_clauses)\n",
    "\n",
    "# Combine the best parameters found\n",
    "print(best_literals_clauses)\n",
    "print(best_score_literals_clauses)"
   ]
  },
  {
   "attachments": {},
   "cell_type": "markdown",
   "metadata": {},
   "source": [
    "Testing: 2, 3\n",
    "95.8\n"
   ]
  },
  {
   "cell_type": "code",
   "execution_count": 9,
   "metadata": {},
   "outputs": [],
   "source": [
    "best_average_literals = 2\n",
    "best_average_clauses = 3"
   ]
  },
  {
   "cell_type": "code",
   "execution_count": null,
   "metadata": {},
   "outputs": [],
   "source": []
  },
  {
   "attachments": {},
   "cell_type": "markdown",
   "metadata": {},
   "source": []
  },
  {
   "cell_type": "code",
   "execution_count": 10,
   "metadata": {},
   "outputs": [
    {
     "name": "stdout",
     "output_type": "stream",
     "text": [
      "100\n"
     ]
    }
   ],
   "source": [
    "best_params = (best_alpha, best_beta, best_evaporation_rate, best_average_literals, best_average_clauses, 100, 100)\n",
    "\n",
    "data_points = len(data)\n",
    "train_ratio = 0.8\n",
    "\n",
    "train_size = int(data_points * train_ratio)\n",
    "test_size = data_points - train_size\n",
    "\n",
    "train_data = data[:train_size]\n",
    "test_data = data[train_size:].reset_index(drop=True)\n",
    "\n",
    "\n",
    "train_bot = TradingBot(train_data, window_sizes, best_params)\n",
    "test_bot = TradingBot(test_data , window_sizes, best_params)\n",
    "\n",
    "train_bot.optimise()\n",
    "\n",
    "best_ant = train_bot.best_ants[-1]\n",
    "print(test_bot.run(best_ant.buy_dnf, best_ant.sell_dnf))"
   ]
  },
  {
   "cell_type": "code",
   "execution_count": 24,
   "metadata": {},
   "outputs": [
    {
     "name": "stdout",
     "output_type": "stream",
     "text": [
      "([{('StochasticOscillator_5_40', False), ('StochasticOscillator_20_40', True), ('VortexIndicator_5_20', False), ('UlcerIndex_20_40', False), ('EMAIndicator_20_40', True), ('ChaikinMoneyFlowIndicator_20_40', False)}, {('ForceIndexIndicator_20_40', True), ('BollingerBands_5_40', True), ('DonchianChannel_5_40', False)}], [{('BollingerBands_5_20', False), ('KAMAIndicator_5_20', True)}])\n"
     ]
    }
   ],
   "source": [
    "print(best_ant.buy_dnf)\n",
    "print(best_ant.sell_dnf)"
   ]
  }
 ],
 "metadata": {
  "kernelspec": {
   "display_name": "env",
   "language": "python",
   "name": "python3"
  },
  "language_info": {
   "codemirror_mode": {
    "name": "ipython",
    "version": 3
   },
   "file_extension": ".py",
   "mimetype": "text/x-python",
   "name": "python",
   "nbconvert_exporter": "python",
   "pygments_lexer": "ipython3",
   "version": "3.9.7"
  },
  "orig_nbformat": 4
 },
 "nbformat": 4,
 "nbformat_minor": 2
}
